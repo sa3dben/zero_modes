{
  "nbformat": 4,
  "nbformat_minor": 0,
  "metadata": {
    "colab": {
      "provenance": [],
      "include_colab_link": true
    },
    "kernelspec": {
      "name": "python3",
      "display_name": "Python 3"
    },
    "language_info": {
      "name": "python"
    }
  },
  "cells": [
    {
      "cell_type": "markdown",
      "metadata": {
        "id": "view-in-github",
        "colab_type": "text"
      },
      "source": [
        "<a href=\"https://colab.research.google.com/github/sa3dben/zero_modes/blob/main/K_c.ipynb\" target=\"_parent\"><img src=\"https://colab.research.google.com/assets/colab-badge.svg\" alt=\"Open In Colab\"/></a>"
      ]
    },
    {
      "cell_type": "code",
      "source": [
        "from scipy.special import gamma as gamma\n",
        "from scipy.special import hyp2f1 as hyp2f1\n",
        "from scipy.integrate import quad\n",
        "from math import pi\n",
        "from math import sqrt\n",
        "import numpy as np\n",
        "from matplotlib import pyplot as plt\n"
      ],
      "metadata": {
        "id": "AomwLmQBdLaG"
      },
      "execution_count": null,
      "outputs": []
    },
    {
      "cell_type": "markdown",
      "source": [
        "# Family 3 of zero modes\n",
        "Now we will use the following family (correct the '-' in the article)\n",
        "$$\\phi = \\alpha\\ln(1 + r^\\beta)$$\n",
        "\n",
        "$$\\Delta(a \\,ln(1 + r^b)) = \\frac{(a b^2 r^{ b-2})}{(1 + r^b)^2} $$\n",
        "\n",
        "Which gives the fields\n",
        "\\begin{align*}\n",
        "\\psi = \\begin{pmatrix}\n",
        "        0 \\\\ \\frac{1}{\\left(1 + |\\mathbf{x}|^\\beta\\right)^\\alpha}\n",
        "    \\end{pmatrix}  && B = \\frac{\\alpha\\beta^2 r^{\\beta - 2}}{(1 + r^\\beta)^2}\\end{align*}\n",
        "\n",
        "Let us find the maximum of the follwing funtion on $\\alpha$ and $\\beta$\n",
        "$$K_3(\\alpha, \\beta) = \\frac{\\int_{\\mathbb{R}^2}\\frac{|\\psi|^2}{|\\mathbf{x}|}d\\mathbf{x}}{\\int_{\\mathbb{R}^2}|B|^{3/2}d\\mathbf{x} \\, \\int_{\\mathbb{R}^2} |\\psi|^2\\mathrm{d}\\mathbf{x} } =\\frac{\\int_0^\\infty \\frac{1}{(1 + r^\\beta)^{2\\alpha}}\\mathrm{d}r}\n",
        "{2\\pi\\alpha^{3/2}\\beta^{3}\\int_0^\\infty \\frac{r}{(1 + r^\\beta)^{2\\alpha}\\mathrm{d}r}\\int_0^\\infty \\frac{r^{\\frac{3}{2}\\beta - 2}}{(1 + r^\\beta)^3}\\mathrm{d}r}\n",
        "$$\n",
        "$$\n",
        "=  \\frac{\\int_0^\\infty f(r, \\beta ,\\alpha) \\mathrm{d}r}\n",
        "{2\\pi\\alpha^{3/2}\\beta^{3}\\int_0^\\infty  g(r, \\beta, \\alpha)\\mathrm{d}r \\int_0^\\infty h(r, \\beta,\\alpha)\\mathrm{d}r}  $$\n",
        "\n",
        "Under the condition for the integrals to converge $\\alpha\\beta > 1$\n",
        "\n",
        "https://www.wolframalpha.com/input?i=int+1%2F%281+%2B+r%5Eb%29%5E%282a%29++wrt+r\n",
        "$$\\int \\frac1{(1 + r^b)^{2 a}} dr = r F_1(2 a, 1/b, 1 + 1/b, -r^b) $$\n",
        "$F_1$ is the https://reference.wolfram.com/language/ref/Hypergeometric2F1.html , https://en.wikipedia.org/wiki/Hypergeometric_function\n",
        "\n",
        "\n",
        "https://www.wolframalpha.com/input?i=int+r%2F%281+%2B+r%5Eb%29%5E%282a%29++wrt+r\n",
        "$$\\int \\frac{r}{(1 + r^b)^{2 a}} dr = \\frac12 r^2 \\, F_1(2 a, 2/b, (b + 2)/b, -r^b) $$\n",
        "\n",
        "https://www.wolframalpha.com/input?i=int+r%5E%283%2F2b-2%29%2F%281+%2B+r%5Eb%29%5E3++wrt+r\n",
        "$$ \\int \\frac{r^{(3/2 \\, b - 2) }}{(1 + r^b)^3} dr = \\frac{2 r^{3/2\\, b - 1}}{3 b - 2}  F_1(3, 3/2 - 1/b, 5/2 - 1/b, -r^b)) $$\n",
        "\n",
        "\n",
        "$$K_3(a,b) = \\frac{ [r F_1(2 a, 1/b, 1 + 1/b, -r^b)]_0^{\\infty} }\n",
        "{  \\frac{2\\pi a^{3/2} b^{3}}{3 b - 2}  [r^2 \\, F_1(2 a, 2/b, (b + 2)/b, -r^b)]_0^\\infty \\,  [r^{3/2\\, b - 1} F_1(3, 3/2 - 1/b, 5/2 - 1/b, -r^b))]_0^\\infty }  $$\n"
      ],
      "metadata": {
        "id": "cgKdOPH_dReB"
      }
    },
    {
      "cell_type": "code",
      "source": [
        "#test a=1; b=2\n",
        "a=1\n",
        "b=2\n",
        "r0 =0.0000001\n",
        "ri=10000\n",
        "print(r0*hyp2f1(2*a,1/b,1+1/b, - r0**b))\n",
        "print(ri*hyp2f1(2*a,1/b,1+1/b, - ri**b))\n",
        "print(r0**2*hyp2f1(2*a,2/b,1+2/b, - r0**b))\n",
        "print(ri**2*hyp2f1(2*a,2/b,1+2/b, - ri**b))\n",
        "print(r0**(1.5*b-1)*hyp2f1(3,3/2 -1/b,5/2-1/b, - r0**b))\n",
        "print(ri**(1.5*b-1)*hyp2f1(3,3/2 -1/b,5/2-1/b, - ri**b))\n",
        "K312 = ri*hyp2f1(2*a,1/b,1+1/b, - ri**b) / ( ri**2*hyp2f1(2*a,2/b,1+2/b, - ri**b) * ri**(1.5*b-1)*hyp2f1(3,3/2 -1/b,5/2-1/b, - ri**b) )\n",
        "print( (3*b -2)*K312/ (2*pi*a**(3/2) * b**3)) #ok = 0.125\n",
        "# ok"
      ],
      "metadata": {
        "colab": {
          "base_uri": "https://localhost:8080/"
        },
        "id": "WjiQDQ67dF9d",
        "outputId": "bb0b21a0-7595-4b7f-c8ba-7a71ff13a0dc"
      },
      "execution_count": null,
      "outputs": [
        {
          "output_type": "stream",
          "name": "stdout",
          "text": [
            "9.999999999999933e-08\n",
            "0.7853981633971148\n",
            "9.999999999999899e-15\n",
            "0.9999999900000001\n",
            "9.99999999999985e-15\n",
            "0.49999999999999994\n",
            "0.12500000124994695\n"
          ]
        }
      ]
    },
    {
      "cell_type": "code",
      "source": [
        "# check at r -> 0 all terms tend to 0 (for all a and b)\n",
        "r0 = 0.0001\n",
        "na, nb = (50, 50)\n",
        "x = np.linspace(0.05, 10, na) # a>0.5 ?\n",
        "y = np.linspace(0.05, 5, nb)\n",
        "xa, xb = np.meshgrid(x, y)\n",
        "\n",
        "eps = 0\n",
        "for i in range(na):\n",
        "    for j in range(nb):\n",
        "        a= x[i]\n",
        "        b= y[j]\n",
        "        if a*b>1.01:\n",
        "          eps = max(eps,abs(r0*hyp2f1(2*a,1/b,1+1/b, - r0**b)))\n",
        "print(eps)\n",
        "\n",
        "eps = 0\n",
        "for i in range(na):\n",
        "    for j in range(nb):\n",
        "        a= x[i]\n",
        "        b= y[j]\n",
        "        if a*b>1.01:\n",
        "          eps = max(eps,abs(r0**2*hyp2f1(2*a,2/b,1+2/b, - r0**b)))\n",
        "print(eps)\n",
        "\n",
        "eps = 0\n",
        "for i in range(na):\n",
        "    for j in range(nb):\n",
        "        a= x[i]\n",
        "        b= y[j]\n",
        "        if a*b>1.01:\n",
        "          eps = max(eps,abs(r0**(1.5*b-1)*hyp2f1(3,3/2 -1/b,5/2-1/b, - r0**b)))\n",
        "print(eps)\n"
      ],
      "metadata": {
        "colab": {
          "base_uri": "https://localhost:8080/"
        },
        "id": "Sb-NXbL4dlI3",
        "outputId": "73c859ee-44d7-40e5-add6-e0e9bc7bf952"
      },
      "execution_count": null,
      "outputs": [
        {
          "output_type": "stream",
          "name": "stdout",
          "text": [
            "0.0001000000000000014\n",
            "1.0000000000000113e-08\n",
            "378.7002700121153\n"
          ]
        }
      ]
    },
    {
      "cell_type": "markdown",
      "source": [
        "Hence the formula of K3(a,b) is the ratio of the $r \\rightarrow +\\infty$ limits, exepct for the third integral\n",
        "\n",
        "\n",
        "$$K_3(a,b) = \\frac{  \\lim_{r\\rightarrow +\\infty}  r F_1(2 a, 1/b, 1 + 1/b, -r^b) }\n",
        "{\\frac{2\\pi a^{3/2} b^{3}}{3 b - 2}  \\, \\lim_{r\\rightarrow +\\infty} (r^2 \\, F_1(2 a, 2/b, (b + 2)/b, -r^b)) \\,  [ r^{3/2\\, b - 1} F_1(3, 3/2 - 1/b, 5/2 - 1/b, -r^b))]_0^\\infty }  $$\n"
      ],
      "metadata": {
        "id": "xe6ClSDjeyRn"
      }
    },
    {
      "cell_type": "code",
      "source": [
        "# check at r -> 0 all terms tend to 0 (for all a and b)\n",
        "ri = 1000000\n",
        "r0 = 0.0000001\n",
        "na, nb = (110, 110)\n",
        "x = np.linspace(0.05, 30, na)\n",
        "y = np.linspace(0.05, 20, nb)\n",
        "xa, xb = np.meshgrid(x, y)\n",
        "k3 = 0.0*xa\n",
        "K3 = 0.0*xa\n",
        "\n",
        "lim_axb =20\n",
        "for i in range(na):\n",
        "    for j in range(nb):\n",
        "        a= x[i]\n",
        "        b= y[j]\n",
        "        if (a*b>1.01) & (a*b<lim_axb):\n",
        "          k3 = ri*hyp2f1(2*a,1/b,1+1/b, - ri**b) / ( ri**2*hyp2f1(2*a,2/b,1+2/b, - ri**b) * (ri**(1.5*b-1)*hyp2f1(3,3/2 -1/b,5/2-1/b, - ri**b) - r0**(1.5*b-1)*hyp2f1(3,3/2 -1/b,5/2-1/b, - r0**b) ) )\n",
        "          K3[i,j] =(3*b -2)*k3/ (2*pi*a**(3/2) * b**3)\n",
        "\n",
        "\n",
        "HH = plt.contourf(xa, xb, K3)\n",
        "plt.axis('scaled')\n",
        "plt.colorbar()\n",
        "plt.plot(x,1/x, '--')\n",
        "plt.plot(x,lim_axb/x, '--')\n",
        "plt.show()\n",
        "\n",
        "print('max(K3) = ', np.amax(K3))\n",
        "indices = np.argmax(K3)\n",
        "ind=np.unravel_index(indices,K3.shape)\n",
        "print(ind)\n",
        "print(indices, xa[ind], xb[ind], xa[ind] * xb[ind])\n",
        "print(indices, xa[(indices//nb), indices%nb], xb[(indices//nb), indices%nb], xa[(indices//nb), indices%nb] * xb[(indices//nb), indices%nb])\n",
        "\n"
      ],
      "metadata": {
        "colab": {
          "base_uri": "https://localhost:8080/",
          "height": 493
        },
        "id": "DKpvlzrCfAJ9",
        "outputId": "42ed2e2f-3ac3-44ad-9c0f-c04c82670291"
      },
      "execution_count": null,
      "outputs": [
        {
          "output_type": "display_data",
          "data": {
            "text/plain": [
              "<Figure size 640x480 with 2 Axes>"
            ],
            "image/png": "[encoded data removed]"
          },
          "metadata": {}
        },
        {
          "output_type": "stream",
          "name": "stdout",
          "text": [
            "max(K3) =  0.12851112471756962\n",
            "(4, 9)\n",
            "449 2.5229357798165135 0.7821100917431193 1.9732135342142916\n",
            "449 2.5229357798165135 0.7821100917431193 1.9732135342142916\n"
          ]
        }
      ]
    },
    {
      "cell_type": "markdown",
      "source": [
        "max(K3) =  0.12837535666812241\n",
        "\n",
        "index = 309\n",
        "\n",
        "a = 2.7727272727272725 b = 0.6545454545454545\n",
        "\n",
        "a.b=1.814876033057851\n",
        "\n",
        "\n",
        "max(K3) =  0.12852079255078572\n",
        "669 1.6972477064220184 1.1481651376146789 1.948720646410235\n"
      ],
      "metadata": {
        "id": "38X0teX6mSS_"
      }
    },
    {
      "cell_type": "code",
      "source": [
        "#%pip install sympy\n",
        "import  sympy as sp"
      ],
      "metadata": {
        "id": "n79sHgpyfAGk"
      },
      "execution_count": null,
      "outputs": []
    },
    {
      "cell_type": "code",
      "source": [
        "a, b, r = sp.symbols('a b r', real=True, positive=True)\n",
        "F = sp.Function('F', real=True)\n",
        "\n"
      ],
      "metadata": {
        "id": "T1gZgK4pAkJ0"
      },
      "execution_count": null,
      "outputs": []
    },
    {
      "cell_type": "code",
      "source": [
        "F(x)"
      ],
      "metadata": {
        "id": "mG8ikloIeQ6c",
        "colab": {
          "base_uri": "https://localhost:8080/",
          "height": 59
        },
        "outputId": "ff84dd3b-68c9-4e44-be69-c952122a81c8"
      },
      "execution_count": null,
      "outputs": [
        {
          "output_type": "execute_result",
          "data": {
            "text/plain": [
              "F([0.05, 0.324770642201835, 0.59954128440367, 0.874311926605505, 1.14908256880734, 1.42385321100917, 1.69862385321101, 1.97339449541284, 2.24816513761468, 2.52293577981651, 2.79770642201835, 3.07247706422018, 3.34724770642202, 3.62201834862385, 3.89678899082569, 4.17155963302752, 4.44633027522936, 4.72110091743119, 4.99587155963303, 5.27064220183486, 5.5454128440367, 5.82018348623853, 6.09495412844037, 6.3697247706422, 6.64449541284404, 6.91926605504587, 7.19403669724771, 7.46880733944954, 7.74357798165138, 8.01834862385321, 8.29311926605505, 8.56788990825688, 8.84266055045872, 9.11743119266055, 9.39220183486239, 9.66697247706422, 9.94174311926606, 10.2165137614679, 10.4912844036697, 10.7660550458716, 11.0408256880734, 11.3155963302752, 11.5903669724771, 11.8651376146789, 12.1399082568807, 12.4146788990826, 12.6894495412844, 12.9642201834862, 13.2389908256881, 13.5137614678899, 13.7885321100917, 14.0633027522936, 14.3380733944954, 14.6128440366972, 14.8876146788991, 15.1623853211009, 15.4371559633028, 15.7119266055046, 15.9866972477064, 16.2614678899083, 16.5362385321101, 16.8110091743119, 17.0857798165138, 17.3605504587156, 17.6353211009174, 17.9100917431193, 18.1848623853211, 18.4596330275229, 18.7344036697248, 19.0091743119266, 19.2839449541284, 19.5587155963303, 19.8334862385321, 20.1082568807339, 20.3830275229358, 20.6577981651376, 20.9325688073394, 21.2073394495413, 21.4821100917431, 21.756880733945, 22.0316513761468, 22.3064220183486, 22.5811926605505, 22.8559633027523, 23.1307339449541, 23.405504587156, 23.6802752293578, 23.9550458715596, 24.2298165137615, 24.5045871559633, 24.7793577981651, 25.054128440367, 25.3288990825688, 25.6036697247706, 25.8784403669725, 26.1532110091743, 26.4279816513761, 26.702752293578, 26.9775229357798, 27.2522935779816, 27.5270642201835, 27.8018348623853, 28.0766055045872, 28.351376146789, 28.6261467889908, 28.9009174311927, 29.1756880733945, 29.4504587155963, 29.7252293577982, 30.0])"
            ],
            "text/latex": "$\\displaystyle F{\\left(\\left[\\begin{array}{}0.05 & 0.324770642201835 & 0.59954128440367 & 0.874311926605505 & 1.14908256880734 & 1.42385321100917 & 1.69862385321101 & 1.97339449541284 & 2.24816513761468 & 2.52293577981651 & 2.79770642201835 & 3.07247706422018 & 3.34724770642202 & 3.62201834862385 & 3.89678899082569 & 4.17155963302752 & 4.44633027522936 & 4.72110091743119 & 4.99587155963303 & 5.27064220183486 & 5.5454128440367 & 5.82018348623853 & 6.09495412844037 & 6.3697247706422 & 6.64449541284404 & 6.91926605504587 & 7.19403669724771 & 7.46880733944954 & 7.74357798165138 & 8.01834862385321 & 8.29311926605505 & 8.56788990825688 & 8.84266055045872 & 9.11743119266055 & 9.39220183486239 & 9.66697247706422 & 9.94174311926606 & 10.2165137614679 & 10.4912844036697 & 10.7660550458716 & 11.0408256880734 & 11.3155963302752 & 11.5903669724771 & 11.8651376146789 & 12.1399082568807 & 12.4146788990826 & 12.6894495412844 & 12.9642201834862 & 13.2389908256881 & 13.5137614678899 & 13.7885321100917 & 14.0633027522936 & 14.3380733944954 & 14.6128440366972 & 14.8876146788991 & 15.1623853211009 & 15.4371559633028 & 15.7119266055046 & 15.9866972477064 & 16.2614678899083 & 16.5362385321101 & 16.8110091743119 & 17.0857798165138 & 17.3605504587156 & 17.6353211009174 & 17.9100917431193 & 18.1848623853211 & 18.4596330275229 & 18.7344036697248 & 19.0091743119266 & 19.2839449541284 & 19.5587155963303 & 19.8334862385321 & 20.1082568807339 & 20.3830275229358 & 20.6577981651376 & 20.9325688073394 & 21.2073394495413 & 21.4821100917431 & 21.756880733945 & 22.0316513761468 & 22.3064220183486 & 22.5811926605505 & 22.8559633027523 & 23.1307339449541 & 23.405504587156 & 23.6802752293578 & 23.9550458715596 & 24.2298165137615 & 24.5045871559633 & 24.7793577981651 & 25.054128440367 & 25.3288990825688 & 25.6036697247706 & 25.8784403669725 & 26.1532110091743 & 26.4279816513761 & 26.702752293578 & 26.9775229357798 & 27.2522935779816 & 27.5270642201835 & 27.8018348623853 & 28.0766055045872 & 28.351376146789 & 28.6261467889908 & 28.9009174311927 & 29.1756880733945 & 29.4504587155963 & 29.7252293577982 & 30.0\\end{array}\\right] \\right)}$"
          },
          "metadata": {},
          "execution_count": 8
        }
      ]
    },
    {
      "cell_type": "code",
      "source": [
        "F = sp.integrate(1 / (1 + r**b)**(2*a), r)\n",
        "F"
      ],
      "metadata": {
        "colab": {
          "base_uri": "https://localhost:8080/",
          "height": 83
        },
        "id": "AYMk_U47DFAd",
        "outputId": "5beddad9-c702-4a36-8311-2a29fbabce3e"
      },
      "execution_count": null,
      "outputs": [
        {
          "output_type": "execute_result",
          "data": {
            "text/plain": [
              "r*gamma(1/b)*hyper((2*a, 1/b), (1 + 1/b,), r**b*exp_polar(I*pi))/(b*gamma(1 + 1/b))"
            ],
            "text/latex": "$\\displaystyle \\frac{r \\Gamma\\left(\\frac{1}{b}\\right) {{}_{2}F_{1}\\left(\\begin{matrix} 2 a, \\frac{1}{b} \\\\ 1 + \\frac{1}{b} \\end{matrix}\\middle| {r^{b} e^{i \\pi}} \\right)}}{b \\Gamma\\left(1 + \\frac{1}{b}\\right)}$"
          },
          "metadata": {},
          "execution_count": 9
        }
      ]
    },
    {
      "cell_type": "code",
      "source": [
        "F.subs(r,np.inf)"
      ],
      "metadata": {
        "colab": {
          "base_uri": "https://localhost:8080/",
          "height": 58
        },
        "id": "CeB4Uz5VD6eI",
        "outputId": "0e562f43-4604-41f3-ea17-6dc87df3743f"
      },
      "execution_count": null,
      "outputs": [
        {
          "output_type": "execute_result",
          "data": {
            "text/plain": [
              "oo*hyper((2*a, 1/b), (1 + 1/b,), -oo)"
            ],
            "text/latex": "$\\displaystyle \\infty {{}_{2}F_{1}\\left(\\begin{matrix} 2 a, \\frac{1}{b} \\\\ 1 + \\frac{1}{b} \\end{matrix}\\middle| {-\\infty} \\right)}$"
          },
          "metadata": {},
          "execution_count": 10
        }
      ]
    },
    {
      "cell_type": "markdown",
      "source": [
        "## Analytic expression\n",
        "We could express the following integral using the simple expression containing the Euler beta function\n",
        "\n",
        "$$\\int_0^\\infty \\frac{x^a}{(1 + x^b)^c} = \\frac{1}{b}B\\left(\\frac{a + 1}{b}, c - \\frac{a + 1 }{b}\\right)$$\n",
        "\n",
        "### proof\n",
        "we have $$\\int_0^\\infty \\frac{r^{2\\alpha}}{(1 + r^2)^\\beta} \\mathrm{d}r =  \n",
        "\\frac{1}{2} \\frac{\\Gamma(\\alpha + 1/2)\\Gamma(\\beta - \\alpha - 1/2)}{\\Gamma(\\beta)}$$\n",
        "\n",
        "By the substituition\n",
        "$$r = x ^ {b/2}$$\n",
        "and putting $ c = \\beta$ and $\\alpha = \\frac{a + 1}{c} - \\frac{1}{2}$ we obtain the desired result"
      ],
      "metadata": {
        "id": "dqT88T2Oc--j"
      }
    },
    {
      "cell_type": "markdown",
      "source": [
        " # analytical exression\n",
        "\n",
        " analytically we could express\n",
        "\n",
        "$$K(\\alpha, \\beta) = \\frac{B(1/\\beta, 2\\alpha - 1/\\beta)}{2\\pi \\alpha^{3/2} \\beta^2B(2/\\beta, 2\\alpha - 2/\\beta)B(3/2 - 1/\\beta, 3/2 + 1/\\beta)}$$\n",
        "\n",
        "Using\n",
        "$B(z_1,z_2)=\\frac{\\Gamma(z_1)\\,\\Gamma(z_2)}{\\Gamma(z_1+z_2)}$, we get :\n",
        "$$K(\\alpha, \\beta) = \\frac{ \\frac{\\Gamma(1/\\beta)\\,\\Gamma(2\\alpha - 1/\\beta)}{\\Gamma(2\\alpha)} } {2\\pi \\alpha^{3/2} \\beta^2 \\frac{\\Gamma(2/\\beta)\\,\\Gamma(2\\alpha - 2/\\beta)}{\\Gamma(2\\alpha)} \\frac{\\Gamma(3/2 - 1/\\beta)\\,\\Gamma(3/2 + 1/\\beta)}{\\Gamma(3)} } $$\n",
        "$$\n",
        "=\\frac{ \\Gamma(1/\\beta)\\,\\Gamma(2\\alpha - 1/\\beta) } {2\\pi \\alpha^{3/2} \\beta^2 \\Gamma(2/\\beta)\\,\\Gamma(2\\alpha - 2/\\beta) \\frac{\\Gamma(3/2 - 1/\\beta)\\,\\Gamma(3/2 + 1/\\beta)}{2} }\n",
        "$$\n",
        "$$\n",
        "=\\frac{ \\Gamma(1/\\beta)\\,\\Gamma(2\\alpha - 1/\\beta) } {\\pi \\alpha^{3/2} \\beta^2 \\Gamma(2/\\beta)\\,\\Gamma(2\\alpha - 2/\\beta) \\Gamma(3/2 - 1/\\beta)\\,\\Gamma(3/2 + 1/\\beta) }\n",
        "$$\n",
        "\n",
        "A simplifier pour enlever $(\\infty/\\infty)$ avec $\\Gamma(x + 1) = x\\Gamma(x) $ et $ \\Gamma(x) \\Gamma(x +1/2)=\n",
        "2 \\sqrt{\\pi} / 4^x \\Gamma(2x) ....$\n",
        "https://agreg-maths.fr/uploads/versions/1457/fonction_gamma.pdf\n",
        "\n",
        "\n",
        "$$\n",
        "K(\\alpha, \\beta)=\\frac{ 2  \\Gamma(1/2 + 1/\\beta) \\Gamma(2\\alpha - 1/\\beta) } { 4^{1/\\beta} \\sqrt{\\pi} \\alpha^{3/2} \\beta^2 \\,\\Gamma(2\\alpha - 2/\\beta) \\Gamma(3/2 - 1/\\beta)\\,\\Gamma(3/2 + 1/\\beta) } = \\frac{ 2   \\Gamma(2\\alpha - 1/\\beta) } { 4^{1/\\beta} \\sqrt{\\pi} \\alpha^{3/2} \\beta^2 (1/2 + 1/\\beta) \\,\\Gamma(2\\alpha - 2/\\beta) \\Gamma(3/2 - 1/\\beta)\\,\\Gamma(1/2 + 1/\\beta) }\n",
        "$$\n",
        "\n",
        "(diverge pour $\\beta = \\frac1{2\\alpha}$ ) !"
      ],
      "metadata": {
        "id": "AduKXnTHyNla"
      }
    },
    {
      "cell_type": "code",
      "source": [
        "from scipy.special import beta as beta\n",
        "F = lambda b, a: beta(1 / b, 2*a - 1/b) / (2*pi*a**1.5*b**2)/beta(2/b, 2*a - 2/b) / beta(1.5 - 1/b, 1.5 + 1/b)\n",
        "F_simp = lambda b, a: gamma(1 / b)*gamma(2*a - 1/b) / (pi*a**1.5*b**2)/gamma(2 / b)/gamma(2*a - 2/b)/gamma(3/2 - 1/b)/gamma(3/2 + 1/b)\n",
        "F_simp2 = lambda b, a: 2*gamma(1/2 + 1/b)*gamma(2*a - 1/b) / (4**(1/b)*np.sqrt(pi)*a**1.5*b**2)/gamma(2*a - 2/b)/gamma(3/2 - 1/b)/gamma(3/2 + 1/b)\n",
        "F_simp3 = lambda b, a: 2*gamma(2*a - 1/b) /(1/2 + 1/b)/ (4**(1/b)*np.sqrt(pi)*a**1.5*b**2)/gamma(2*a - 2/b)/gamma(3/2 - 1/b)/gamma(1/2 + 1/b)\n",
        "#check for particular values\n",
        "a = 1\n",
        "b = 2\n",
        "k3 = ri*hyp2f1(2*a,1/b,1+1/b, - ri**b) / ( ri**2*hyp2f1(2*a,2/b,1+2/b, - ri**b) * (ri**(1.5*b-1)*hyp2f1(3,3/2 -1/b,5/2-1/b, - ri**b) - r0**(1.5*b-1)*hyp2f1(3,3/2 -1/b,5/2-1/b, - r0**b) ) )\n",
        "k = (3*b -2)*k3/ (2*pi*a**(3/2) * b**3)\n",
        "print(F(b,a))\n",
        "print(F_simp(b,a))\n",
        "print(F_simp2(b,a))\n",
        "print(F_simp3(b,a))\n",
        "print(k)\n",
        "\n",
        "a = 1.01\n",
        "b = 1\n",
        "print('-----')\n",
        "print(F(b,a))\n",
        "print(F_simp(b,a))\n",
        "print(F_simp2(b,a))\n",
        "print(F_simp3(b,a))\n",
        "k3 = ri*hyp2f1(2*a,1/b,1+1/b, - ri**b) / ( ri**2*hyp2f1(2*a,2/b,1+2/b, - ri**b) * (ri**(1.5*b-1)*hyp2f1(3,3/2 -1/b,5/2-1/b, - ri**b) - r0**(1.5*b-1)*hyp2f1(3,3/2 -1/b,5/2-1/b, - r0**b) ) )\n",
        "k = (3*b -2)*k3/ (2*pi*a**(3/2) * b**3)\n",
        "print(k) # this method is worst when a.b approches 1\n",
        "\n",
        "a = 2.01\n",
        "b = 1\n",
        "print('-----')\n",
        "print(F(b,a))\n",
        "print(F_simp(b,a))\n",
        "print(F_simp2(b,a))\n",
        "print(F_simp3(b,a))# this method is worst when a.b approches 2...\n",
        "k3 = ri*hyp2f1(2*a,1/b,1+1/b, - ri**b) / ( ri**2*hyp2f1(2*a,2/b,1+2/b, - ri**b) * (ri**(1.5*b-1)*hyp2f1(3,3/2 -1/b,5/2-1/b, - ri**b) - r0**(1.5*b-1)*hyp2f1(3,3/2 -1/b,5/2-1/b, - r0**b) ) )\n",
        "k = (3*b -2)*k3/ (2*pi*a**(3/2) * b**3)\n",
        "print(k) # this method is worst when a.b approches 1"
      ],
      "metadata": {
        "colab": {
          "base_uri": "https://localhost:8080/"
        },
        "id": "_NprJHz3zYEa",
        "outputId": "0fbfcf1c-bee4-4e2a-9d0a-f7f4ab66527c"
      },
      "execution_count": null,
      "outputs": [
        {
          "output_type": "stream",
          "name": "stdout",
          "text": [
            "0.12499999999999999\n",
            "0.12499999999999999\n",
            "0.125\n",
            "0.125\n",
            "0.1250000000001275\n",
            "-----\n",
            "0.0026618705182896944\n",
            "0.002661870518289695\n",
            "0.00209062821626654\n",
            "0.0023590213253772163\n",
            "0.011771437057833964\n",
            "-----\n",
            "0.09576267622220119\n",
            "0.09576267622220118\n",
            "0.0752118300269413\n",
            "0.0848674621215293\n",
            "0.09581411353826752\n"
          ]
        }
      ]
    },
    {
      "cell_type": "code",
      "source": [
        "na, nb = (100, 100)\n",
        "x = np.linspace(0.1, 5, na)\n",
        "y = np.linspace(0.1, 5, nb)\n",
        "xa, xb = np.meshgrid(x, y)\n",
        "k3 = 0.0*xa # intialize with zeros and with the right shape\n",
        "\n",
        "lim_axb =1.99\n",
        "for i in range(na):\n",
        "    for j in range(nb):\n",
        "        a= x[i]\n",
        "        b= y[j]\n",
        "        if (a*b>1.1) & (a*b<lim_axb):\n",
        "          k3[i,j] = F_simp3(b,a)\n",
        "\n",
        "\n",
        "HH = plt.contourf(xa, xb, k3)\n",
        "plt.axis('scaled')\n",
        "plt.colorbar()\n",
        "plt.plot(x,1/x, '--')\n",
        "plt.plot(x,lim_axb/x, '--')\n",
        "plt.show()\n",
        "\n",
        "print('max(k3) = ', np.amax(k3))\n",
        "indices = np.argmax(k3)\n",
        "ind=np.unravel_index(indices,k3.shape)\n",
        "print(ind)\n",
        "print(indices, 'a =' , xa[ind], 'b=',xb[ind], 'a.b= ', xa[ind] * xb[ind])"
      ],
      "metadata": {
        "id": "e8iWR1axzrJ4",
        "colab": {
          "base_uri": "https://localhost:8080/",
          "height": 490
        },
        "outputId": "986032e6-49ee-48ab-8251-3563455f3f3c"
      },
      "execution_count": null,
      "outputs": [
        {
          "output_type": "display_data",
          "data": {
            "text/plain": [
              "<Figure size 640x480 with 2 Axes>"
            ],
            "image/png": "[encoded data removed]"
          },
          "metadata": {}
        },
        {
          "output_type": "stream",
          "name": "stdout",
          "text": [
            "max(k3) =  0.13083905886227878\n",
            "(10, 54)\n",
            "1054 a = 2.7727272727272734 b= 0.594949494949495 a.b=  1.649632690541782\n"
          ]
        }
      ]
    },
    {
      "cell_type": "markdown",
      "source": [
        "In two dimensions one particle Lieb Thiring inequality Assume that there for every $\\gamma \\geq 0$ There is a positive constant $L_{\\gamma, 2}$, such that $e$ the least eigenvalue of the shrodinger operator $-\\Delta - V$ verifies\n",
        "$$|e|^\\gamma \\leq L_{\\gamma,2} \\int V^{\\gamma + 1}$$\n",
        "\n",
        "So by using the quadratic form of the shrodinger operato we find the inquality, for every normalized wave function $\\int |\\psi|^2 = 1$\n",
        "We have\n",
        "$$\\left(\\int |\\nabla \\psi|^2 - \\int V\\rho \\right)^\\gamma \\geq - L_{\\gamma,2}\\int V^{1 + \\gamma}$$\n",
        "The minus because $e$ is negative.\n",
        "\n",
        "We put $\\gamma = 1/2$ and we develop we find\n",
        "$$\\int|\\nabla \\psi|^2 \\geq \\int V\\rho - (L_{1/2, 2})^2 \\left(\\int V^{3/2}\\right)^2$$\n",
        "\n",
        "We take $V = C\\rho^2$ in order the get the same integral in the two terms of the right hand side, With $C$ some real constant.\n",
        "\n",
        "So we obtain\n",
        "$$\\int|\\nabla \\psi|^2 \\geq C\\int \\rho^3 - C^3(L_{1/2, 2})^2  \\left(\\int \\rho^3\\right)^2$$\n",
        "\n",
        "optimizing in $C$, an expression of the form $BX - AX^3$ has a miximum of $\\frac{2}{3}\\frac{C^{3/2}}{(3A)^{1/2}}$, So we obtain\n",
        "$$\\int|\\nabla \\psi|^2 \\geq \\frac{2}{3\\sqrt{3}L_{1/2, 2}}\\left(\\int \\rho^3\\right)^{1/2}$$\n",
        "\n",
        "So\n",
        "\n",
        "$$\\left(\\int |\\nabla \\psi|^2\\right)^2 \\geq \\frac{4}{27 L^2_{1/2, 2}} \\int \\rho^3$$\n",
        "\n",
        "Barnes find numerically the best constant to $L_{1/2, 2}$ in  add Lieb Thirring reference \"INEQUALITIES FOR THE MOMENTS OF THE EIGENVALUES\n",
        "OF THE SCHRODINGER HAMILTONIAN AND THEIR RELATION\n",
        "TO SOBOLEV INEQUALITIES\"\n",
        "\n",
        "$$L_{1/2, 2} \\approx 0.09$$\n",
        "\n",
        "So the get a lower bound to the constant $S_3$\n",
        "\n",
        "$$S_3 \\geq 18.28$$\n",
        "\n",
        "Which is better than The bound found from the isoperimetric inequality which was $1.95$\n",
        "\n",
        "Using this value to find an upper bound to the constant $K_{c,2}$ which is $\\frac{2}{\\sqrt{S_3}}$\n",
        "\n",
        "Now we have\n",
        "$$K_{c,2} \\leq 0.46$$\n",
        "Which also better than the bound $1.44$.\n"
      ],
      "metadata": {
        "id": "N2-sLNDqefC9"
      }
    },
    {
      "cell_type": "markdown",
      "source": [
        "The bound $18.28$ is very accurate, which we could verify easily by two test functions $\\psi = e^{-r}$ and $\\psi = \\frac{1}{1 + r^2}$\n",
        "\n",
        "For $\\psi = e^{-r}$ or $\\rho = e^{-2r}$, we have $|\\nabla \\psi|^2 = e^{-2r}$ we obtain $\\left(\\int|\\nabla \\psi|\\right)^2 = \\frac{\\pi^2}{4}$.\n",
        "\n",
        "Also $\\int \\rho = \\frac{\\pi}{2}$ and $\\int \\rho^3 = \\frac{\\pi}{18}$, So we obtain\n",
        "$$S_3 \\leq \\frac{\\int \\rho \\left(\\int |\\nabla \\psi|^2\\right)^2}{\\int \\rho^3} = \\frac{9\\pi^2}{4} \\approx 22.2$$\n",
        "Which is good approximation.\n",
        "    \n",
        "For $\\psi = \\frac{1}{1 + r^2}$ or $\\rho = \\frac{1}{(1 + r^2)^2}$, we have $|\\nabla \\psi|^2 = \\frac{4r^2}{(1 + r^2)^2}$ we obtain $\\left(\\int|\\nabla \\psi|\\right)^2 = \\frac{4\\pi^2}{9}$.\n",
        "Also $\\int \\rho = \\pi$ and $\\int \\rho^3 = \\frac{\\pi}{5}$, So we obtain\n",
        "$$S_3 \\leq \\frac{\\int \\rho \\left(\\int |\\nabla \\psi|^2\\right)^2}{\\int \\rho^3} = \\frac{20\\pi^2}{9} \\approx 21.9$$\n",
        "Which is also a good approximation.\n",
        "\n",
        "So indeed This approximation is better."
      ],
      "metadata": {
        "id": "9k1I2IWjfq8N"
      }
    },
    {
      "cell_type": "markdown",
      "source": [
        "# Compaclty supported magnetic field\n",
        "Here we will construct the class of zero modes created by compactly supported magnetic field, This magnetic fields are interesting from a physical point of view because they are the magnetic fields that we could create easily in the labortary by a selenoid.\n",
        "\n",
        "The creation of this magnetic field will be by combining the homegenuous magnetic filed with one created by a fluxon.\n",
        "\n",
        "A point far from the the support of magnetic field see the field as one created by a fluxion, And a point inside the support see it as t\n",
        "## magnetic field created by fluxon\n",
        "\n",
        "In this case $\\phi = -\\Phi\\ln(|x|)$\n",
        "wich yields the magnetic field with flux in any area that contains the origin the value $\\Phi$\n",
        "$$\\mathbf{A} = \\frac{\\Phi}{|x|}\\mathbf{e}_\\theta$$\n",
        "\n",
        "\n",
        "## homegenuous magnetic field\n",
        "For magnetic field with constant value $B$\n",
        "\n",
        "Here the potential is $\\phi = Bx^2$\n",
        "\n",
        "$$\\mathbf{A} = B|x|\\mathbf{e}_\\theta$$\n",
        "\n",
        "## compactly supported magnetic field\n",
        "Let $R$ be the riaduis on which the magnetic filed is spported, and let $B$ its intensity, So the potential $\\phi$ has the following form\n",
        "$$\\phi = \\begin{cases}\n",
        "\\frac{-B}{4}|\\mathbf{x}|^2 \\text{ for $|\\mathbf{x}| \\leq R$}\\\\\n",
        "-\\frac{BR^2}{2} \\ln(\\frac{|\\mathbf{x}|}{R}) - \\frac{B}{4}R^2 \\text{ for $|\\mathbf{x}| \\geq R$}\n",
        "\\end{cases}$$\n",
        "We have $\\mathbf{A} = (A_1, A_2)$ with\n",
        "$$\\begin{cases}\n",
        "A_1 = \\frac{\\partial}{\\partial x_2}\\phi \\\\\n",
        "A_2 = -\\frac{\\partial}{\\partial x_1}\\phi\n",
        "\\end{cases}$$\n",
        "\n",
        "So for $|\\mathbf{x}| \\leq R$ we obtain\n",
        "$$\\begin{cases}\n",
        "A_1 = \\frac{-Bx_2}{2}\\\\\n",
        "A_2 = \\frac{Bx_1}{2}\n",
        "\\end{cases}$$\n",
        "And for $|\\mathbf{x}| \\geq R$\n",
        "$$\\begin{cases}\n",
        "A_1 = \\frac{BR^2}{2}\\frac{x_2}{x_1^2 + x_2^2}\\\\\n",
        "A_2 = \\frac{BR^2}{2}\\frac{x_1}{x_1^2 + x_2^2}\n",
        "\\end{cases}$$\n",
        "We remark here that the field $A$ is continuous.\n",
        "\n",
        "Finally we have $$B = \\frac{\\partial}{\\partial x_1}A_{x_2} - \\frac{\\partial}{\\partial x_2}A_{x_1}$$\n",
        "We verify that this indeed is the compactly supported magnetic field.\n",
        "And Hence we obtain the spinor field\n",
        "$$\\psi = \\begin{cases}\n",
        "e^{-\\frac{B}{4}|\\mathbf{x}|^2} \\text{ for $|\\mathbf{x}| \\leq R$}\\\\\n",
        "\\left(\\frac{R}{|\\mathbf{x}|}\\right)^{BR^2/2}e^{-BR^2/4} \\text{ for $|\\mathbf{x}| \\geq R$}\n",
        "\\end{cases}$$\n",
        "The functional of $K$ is invariant under scaling So we could fix $R = 1$ to one and change only $B$ to see the results change!!!\n",
        "So we test the functional with $R = 1$\n",
        "Hence we have the following field\n",
        "$$\\psi = \\begin{cases}\n",
        "e^{-\\frac{B}{4}|\\mathbf{x}|^2} \\text{ for $|\\mathbf{x}| \\leq 1$}\\\\\n",
        "\\left(\\frac{1}{|\\mathbf{x}|}\\right)^{B/2}e^{-B/4} \\text{ for $|\\mathbf{x}| \\geq 1$}\n",
        "\\end{cases}$$"
      ],
      "metadata": {
        "id": "n696vKFW1LoZ"
      }
    },
    {
      "cell_type": "markdown",
      "source": [
        "with this family of zero modes we have for $B > 2$\n",
        "$$\\int B^{3/2} = B^{3/2}\\pi$$\n",
        "$$\\int |\\psi|^2 = \\frac{2\\pi}{B} (1 - e^{-B/2}) + \\frac{\\pi e^{-B / 2}}{B - 2}$$\n",
        "$$\\int \\frac{|\\psi|^2}{|\\mathbf{x}|} = \\pi\\sqrt{\\frac{2\\pi}{B}}\\operatorname{erf}(\\sqrt{B/2}) + \\frac{2\\pi e^{-B / 2}}{B - 1}$$\n",
        "Now we could find a lower bound by finding the maximum as a function of $B$ of\n",
        "$$K(B) = \\frac{ \\sqrt{\\frac{2\\pi}{B}}\\operatorname{erf}(\\sqrt{B/2}) + \\frac{2 e^{-B / 2}}{B - 1}}{ 2\\pi B^{1/2}(1 - e^{-B/2}) + \\frac{\\pi B^{3/2}e^{-B / 2}}{B - 2}}$$"
      ],
      "metadata": {
        "id": "mxNp_VJD1ROT"
      }
    },
    {
      "cell_type": "code",
      "source": [
        "from math import erf\n",
        "from math import exp\n",
        "import numpy as np\n",
        "from matplotlib import pyplot as plt\n",
        "from math import sqrt,pi\n"
      ],
      "metadata": {
        "id": "OEyi6cPW1CPf"
      },
      "execution_count": null,
      "outputs": []
    },
    {
      "cell_type": "code",
      "source": [
        "f = lambda x: sqrt(2*pi/x)*erf(sqrt(x / 2)) + 2 * exp(-x / 2) / (x - 1)\n",
        "g = lambda x: 2* pi* sqrt(x) * (1 - exp(-x / 2)) + pi * x * sqrt(x) * exp(-x / 2) / (x - 2)"
      ],
      "metadata": {
        "id": "O2WOm55K1a3v"
      },
      "execution_count": null,
      "outputs": []
    },
    {
      "cell_type": "code",
      "source": [
        "h = lambda x: f(x) / g(x)\n",
        "k = np.vectorize(h)"
      ],
      "metadata": {
        "id": "6wdKADjS1g9n"
      },
      "execution_count": null,
      "outputs": []
    },
    {
      "cell_type": "code",
      "source": [
        "x = np.linspace(2.1, 20, 100)\n",
        "y = k(x)\n",
        "print(\"The maximum for supported magentic field\",max(y))\n",
        "y_max = max(y)\n",
        "x_max = y.argmax()\n",
        "plt.plot(x, y)\n",
        "plt.scatter(x[x_max], y_max, c = 'red')\n",
        "print('The magnetic strength is ', x[x_max])\n",
        "plt.title('Estimating Kc lower bound using compactly supported magnetic field')\n",
        "plt.xlabel('The magnetic field strength B')\n",
        "plt.ylabel('The value of K')\n",
        "plt.savefig('K.png')\n",
        "plt.show()"
      ],
      "metadata": {
        "colab": {
          "base_uri": "https://localhost:8080/",
          "height": 507
        },
        "id": "hMLgZp5M1qDo",
        "outputId": "9c4922e8-ff87-4a7c-e8fe-df4e5a0393d2"
      },
      "execution_count": null,
      "outputs": [
        {
          "output_type": "stream",
          "name": "stdout",
          "text": [
            "The maximum for supported magentic field 0.1307299737695425\n",
            "The magnetic strength is  2.8232323232323235\n"
          ]
        },
        {
          "output_type": "display_data",
          "data": {
            "text/plain": [
              "<Figure size 640x480 with 1 Axes>"
            ],
            "image/png": "[encoded data removed]"
          },
          "metadata": {}
        }
      ]
    }
  ]
}